{
 "cells": [
  {
   "cell_type": "code",
   "execution_count": 39,
   "id": "6487986e-ca9b-45e6-94ea-e2cd70dbac58",
   "metadata": {},
   "outputs": [],
   "source": [
    "import pandas as pd\n",
    "import numpy as np\n",
    "from sklearn.neighbors import KNeighborsClassifier\n",
    "from sklearn.linear_model import LogisticRegression\n",
    "from sklearn.metrics import accuracy_score\n",
    "import warnings\n",
    "warnings.filterwarnings('ignore')"
   ]
  },
  {
   "cell_type": "code",
   "execution_count": 36,
   "id": "23ca7a0f-6364-4919-94fa-91fe9bfcb02c",
   "metadata": {},
   "outputs": [
    {
     "name": "stdout",
     "output_type": "stream",
     "text": [
      "accuracy = 0.9688\n"
     ]
    }
   ],
   "source": [
    "# Load datasets Using KNN\n",
    "training = pd.read_csv('./Q3/mnist_train.csv', header=None)\n",
    "testing = pd.read_csv('./Q3/mnist_test.csv', header=None)\n",
    "\n",
    "\n",
    "X_train = training.iloc[:, 1:] \n",
    "y_train = training.iloc[:, 0] # The first column tell us the label\n",
    "\n",
    "X_test = testing.iloc[:, 1:]\n",
    "y_test = testing.iloc[:, 0]\n",
    "# Train model using KNN\n",
    "model = KNeighborsClassifier()\n",
    "model.fit(X_train, y_train)\n",
    "\n",
    "# Evaluate \n",
    "preds = model.predict(X_test)\n",
    "print(f'accuracy = {accuracy_score(y_test, preds)}')"
   ]
  },
  {
   "cell_type": "code",
   "execution_count": 40,
   "id": "55c37bad-f4fb-46bc-9db1-901118d94dc8",
   "metadata": {},
   "outputs": [
    {
     "name": "stdout",
     "output_type": "stream",
     "text": [
      "accuracy = 0.9255\n"
     ]
    }
   ],
   "source": [
    "# Load datasets Using Logistic Regression\n",
    "training = pd.read_csv('./Q3/mnist_train.csv', header=None)\n",
    "testing = pd.read_csv('./Q3/mnist_test.csv', header=None)\n",
    "\n",
    "\n",
    "X_train = training.iloc[:, 1:] \n",
    "y_train = training.iloc[:, 0] # The first column tell us the label\n",
    "\n",
    "X_test = testing.iloc[:, 1:]\n",
    "y_test = testing.iloc[:, 0]\n",
    "# Train model using KNN\n",
    "model = LogisticRegression()\n",
    "model.fit(X_train, y_train)\n",
    "\n",
    "# Evaluate \n",
    "preds = model.predict(X_test)\n",
    "print(f'accuracy = {accuracy_score(y_test, preds)}')"
   ]
  },
  {
   "cell_type": "code",
   "execution_count": null,
   "id": "08020bf0-fc83-480a-8376-1749c5ec95f8",
   "metadata": {},
   "outputs": [],
   "source": []
  }
 ],
 "metadata": {
  "kernelspec": {
   "display_name": "Python 3 (ipykernel)",
   "language": "python",
   "name": "python3"
  },
  "language_info": {
   "codemirror_mode": {
    "name": "ipython",
    "version": 3
   },
   "file_extension": ".py",
   "mimetype": "text/x-python",
   "name": "python",
   "nbconvert_exporter": "python",
   "pygments_lexer": "ipython3",
   "version": "3.12.7"
  }
 },
 "nbformat": 4,
 "nbformat_minor": 5
}
